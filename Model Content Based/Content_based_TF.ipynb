{
  "nbformat": 4,
  "nbformat_minor": 0,
  "metadata": {
    "colab": {
      "provenance": []
    },
    "kernelspec": {
      "name": "python3",
      "display_name": "Python 3"
    },
    "language_info": {
      "name": "python"
    }
  },
  "cells": [
    {
      "cell_type": "markdown",
      "source": [
        "# Import Library"
      ],
      "metadata": {
        "id": "_JQX608w9q04"
      }
    },
    {
      "cell_type": "code",
      "execution_count": null,
      "metadata": {
        "id": "nK8f79Ct9i6z"
      },
      "outputs": [],
      "source": [
        "import numpy as np\n",
        "import pandas as pd\n",
        "from sklearn.feature_extraction.text import CountVectorizer\n",
        "from sklearn.metrics.pairwise import cosine_similarity\n",
        "from tensorflow.keras.models import Sequential\n",
        "from tensorflow.keras.layers import Embedding, Flatten, Dense\n"
      ]
    },
    {
      "cell_type": "markdown",
      "source": [
        "# Preprocessing\n"
      ],
      "metadata": {
        "id": "B_uMVVns9zen"
      }
    },
    {
      "cell_type": "markdown",
      "source": [
        "## memuat data"
      ],
      "metadata": {
        "id": "eFE4TyLr94Aa"
      }
    },
    {
      "cell_type": "code",
      "source": [
        "from google.colab import drive\n",
        "drive.mount('/content/drive')"
      ],
      "metadata": {
        "colab": {
          "base_uri": "https://localhost:8080/"
        },
        "id": "wRUVGHHm987h",
        "outputId": "2a7aa51a-183f-4fa1-fdde-52432e32b6bf"
      },
      "execution_count": null,
      "outputs": [
        {
          "output_type": "stream",
          "name": "stdout",
          "text": [
            "Drive already mounted at /content/drive; to attempt to forcibly remount, call drive.mount(\"/content/drive\", force_remount=True).\n"
          ]
        }
      ]
    },
    {
      "cell_type": "code",
      "source": [
        "dataset = pd.read_csv('/content/drive/MyDrive/capstone/fix_combined_dataset.csv')\n",
        "dataset.head()"
      ],
      "metadata": {
        "colab": {
          "base_uri": "https://localhost:8080/",
          "height": 337
        },
        "id": "PnIYORYa95x6",
        "outputId": "a58b7b1a-9f2f-4c65-c9b7-723581e2488e"
      },
      "execution_count": null,
      "outputs": [
        {
          "output_type": "execute_result",
          "data": {
            "text/plain": [
              "                      Title  \\\n",
              "0          Ayam Woku Manado   \n",
              "1  Ayam goreng tulang lunak   \n",
              "2          Ayam cabai kawin   \n",
              "3               Ayam Geprek   \n",
              "4               Minyak Ayam   \n",
              "\n",
              "                                         Ingredients  \\\n",
              "0  1 Ekor Ayam Kampung (potong 12)--2 Buah Jeruk ...   \n",
              "1  1 kg ayam (dipotong sesuai selera jangan kecil...   \n",
              "2  1/4 kg ayam--3 buah cabai hijau besar--7 buah ...   \n",
              "3  250 gr daging ayam (saya pakai fillet)--Secuku...   \n",
              "4  400 gr kulit ayam & lemaknya--8 siung bawang p...   \n",
              "\n",
              "                                               Steps  Loves  \n",
              "0  Cuci bersih ayam dan tiriskan. Lalu peras jeru...      1  \n",
              "1  Haluskan bumbu2nya (BaPut, ketumbar, kemiri, k...      1  \n",
              "2  Panaskan minyak di dalam wajan. Setelah minyak...      2  \n",
              "3  Goreng ayam seperti ayam krispi--Ulek semua ba...     10  \n",
              "4  Cuci bersih kulit ayam. Sisihkan--Ambil 50 ml ...      4  "
            ],
            "text/html": [
              "\n",
              "  <div id=\"df-0aea951e-5954-468b-b4bd-aa56f9b53f70\">\n",
              "    <div class=\"colab-df-container\">\n",
              "      <div>\n",
              "<style scoped>\n",
              "    .dataframe tbody tr th:only-of-type {\n",
              "        vertical-align: middle;\n",
              "    }\n",
              "\n",
              "    .dataframe tbody tr th {\n",
              "        vertical-align: top;\n",
              "    }\n",
              "\n",
              "    .dataframe thead th {\n",
              "        text-align: right;\n",
              "    }\n",
              "</style>\n",
              "<table border=\"1\" class=\"dataframe\">\n",
              "  <thead>\n",
              "    <tr style=\"text-align: right;\">\n",
              "      <th></th>\n",
              "      <th>Title</th>\n",
              "      <th>Ingredients</th>\n",
              "      <th>Steps</th>\n",
              "      <th>Loves</th>\n",
              "    </tr>\n",
              "  </thead>\n",
              "  <tbody>\n",
              "    <tr>\n",
              "      <th>0</th>\n",
              "      <td>Ayam Woku Manado</td>\n",
              "      <td>1 Ekor Ayam Kampung (potong 12)--2 Buah Jeruk ...</td>\n",
              "      <td>Cuci bersih ayam dan tiriskan. Lalu peras jeru...</td>\n",
              "      <td>1</td>\n",
              "    </tr>\n",
              "    <tr>\n",
              "      <th>1</th>\n",
              "      <td>Ayam goreng tulang lunak</td>\n",
              "      <td>1 kg ayam (dipotong sesuai selera jangan kecil...</td>\n",
              "      <td>Haluskan bumbu2nya (BaPut, ketumbar, kemiri, k...</td>\n",
              "      <td>1</td>\n",
              "    </tr>\n",
              "    <tr>\n",
              "      <th>2</th>\n",
              "      <td>Ayam cabai kawin</td>\n",
              "      <td>1/4 kg ayam--3 buah cabai hijau besar--7 buah ...</td>\n",
              "      <td>Panaskan minyak di dalam wajan. Setelah minyak...</td>\n",
              "      <td>2</td>\n",
              "    </tr>\n",
              "    <tr>\n",
              "      <th>3</th>\n",
              "      <td>Ayam Geprek</td>\n",
              "      <td>250 gr daging ayam (saya pakai fillet)--Secuku...</td>\n",
              "      <td>Goreng ayam seperti ayam krispi--Ulek semua ba...</td>\n",
              "      <td>10</td>\n",
              "    </tr>\n",
              "    <tr>\n",
              "      <th>4</th>\n",
              "      <td>Minyak Ayam</td>\n",
              "      <td>400 gr kulit ayam &amp; lemaknya--8 siung bawang p...</td>\n",
              "      <td>Cuci bersih kulit ayam. Sisihkan--Ambil 50 ml ...</td>\n",
              "      <td>4</td>\n",
              "    </tr>\n",
              "  </tbody>\n",
              "</table>\n",
              "</div>\n",
              "      <button class=\"colab-df-convert\" onclick=\"convertToInteractive('df-0aea951e-5954-468b-b4bd-aa56f9b53f70')\"\n",
              "              title=\"Convert this dataframe to an interactive table.\"\n",
              "              style=\"display:none;\">\n",
              "        \n",
              "  <svg xmlns=\"http://www.w3.org/2000/svg\" height=\"24px\"viewBox=\"0 0 24 24\"\n",
              "       width=\"24px\">\n",
              "    <path d=\"M0 0h24v24H0V0z\" fill=\"none\"/>\n",
              "    <path d=\"M18.56 5.44l.94 2.06.94-2.06 2.06-.94-2.06-.94-.94-2.06-.94 2.06-2.06.94zm-11 1L8.5 8.5l.94-2.06 2.06-.94-2.06-.94L8.5 2.5l-.94 2.06-2.06.94zm10 10l.94 2.06.94-2.06 2.06-.94-2.06-.94-.94-2.06-.94 2.06-2.06.94z\"/><path d=\"M17.41 7.96l-1.37-1.37c-.4-.4-.92-.59-1.43-.59-.52 0-1.04.2-1.43.59L10.3 9.45l-7.72 7.72c-.78.78-.78 2.05 0 2.83L4 21.41c.39.39.9.59 1.41.59.51 0 1.02-.2 1.41-.59l7.78-7.78 2.81-2.81c.8-.78.8-2.07 0-2.86zM5.41 20L4 18.59l7.72-7.72 1.47 1.35L5.41 20z\"/>\n",
              "  </svg>\n",
              "      </button>\n",
              "      \n",
              "  <style>\n",
              "    .colab-df-container {\n",
              "      display:flex;\n",
              "      flex-wrap:wrap;\n",
              "      gap: 12px;\n",
              "    }\n",
              "\n",
              "    .colab-df-convert {\n",
              "      background-color: #E8F0FE;\n",
              "      border: none;\n",
              "      border-radius: 50%;\n",
              "      cursor: pointer;\n",
              "      display: none;\n",
              "      fill: #1967D2;\n",
              "      height: 32px;\n",
              "      padding: 0 0 0 0;\n",
              "      width: 32px;\n",
              "    }\n",
              "\n",
              "    .colab-df-convert:hover {\n",
              "      background-color: #E2EBFA;\n",
              "      box-shadow: 0px 1px 2px rgba(60, 64, 67, 0.3), 0px 1px 3px 1px rgba(60, 64, 67, 0.15);\n",
              "      fill: #174EA6;\n",
              "    }\n",
              "\n",
              "    [theme=dark] .colab-df-convert {\n",
              "      background-color: #3B4455;\n",
              "      fill: #D2E3FC;\n",
              "    }\n",
              "\n",
              "    [theme=dark] .colab-df-convert:hover {\n",
              "      background-color: #434B5C;\n",
              "      box-shadow: 0px 1px 3px 1px rgba(0, 0, 0, 0.15);\n",
              "      filter: drop-shadow(0px 1px 2px rgba(0, 0, 0, 0.3));\n",
              "      fill: #FFFFFF;\n",
              "    }\n",
              "  </style>\n",
              "\n",
              "      <script>\n",
              "        const buttonEl =\n",
              "          document.querySelector('#df-0aea951e-5954-468b-b4bd-aa56f9b53f70 button.colab-df-convert');\n",
              "        buttonEl.style.display =\n",
              "          google.colab.kernel.accessAllowed ? 'block' : 'none';\n",
              "\n",
              "        async function convertToInteractive(key) {\n",
              "          const element = document.querySelector('#df-0aea951e-5954-468b-b4bd-aa56f9b53f70');\n",
              "          const dataTable =\n",
              "            await google.colab.kernel.invokeFunction('convertToInteractive',\n",
              "                                                     [key], {});\n",
              "          if (!dataTable) return;\n",
              "\n",
              "          const docLinkHtml = 'Like what you see? Visit the ' +\n",
              "            '<a target=\"_blank\" href=https://colab.research.google.com/notebooks/data_table.ipynb>data table notebook</a>'\n",
              "            + ' to learn more about interactive tables.';\n",
              "          element.innerHTML = '';\n",
              "          dataTable['output_type'] = 'display_data';\n",
              "          await google.colab.output.renderOutput(dataTable, element);\n",
              "          const docLink = document.createElement('div');\n",
              "          docLink.innerHTML = docLinkHtml;\n",
              "          element.appendChild(docLink);\n",
              "        }\n",
              "      </script>\n",
              "    </div>\n",
              "  </div>\n",
              "  "
            ]
          },
          "metadata": {},
          "execution_count": 22
        }
      ]
    },
    {
      "cell_type": "markdown",
      "source": [
        "### menghilangkan angka dalam bahan\n"
      ],
      "metadata": {
        "id": "ZS9yKqQfA-Cw"
      }
    },
    {
      "cell_type": "code",
      "source": [
        "import re\n",
        "dataset['Ingredients1'] = dataset['Ingredients'].astype(str).apply(lambda x: re.sub(r'\\d+', '', x))\n",
        "dataset['tambahan'] = dataset['Title'] + ' bahan ' + dataset['Ingredients1']\n",
        "dataset"
      ],
      "metadata": {
        "colab": {
          "base_uri": "https://localhost:8080/"
        },
        "id": "1ROlS8UtA6bG",
        "outputId": "68fac5e7-148e-4de6-8b47-e70c627f8a7f"
      },
      "execution_count": null,
      "outputs": [
        {
          "output_type": "execute_result",
          "data": {
            "text/plain": [
              "                                   Title  \\\n",
              "0                       Ayam Woku Manado   \n",
              "1               Ayam goreng tulang lunak   \n",
              "2                       Ayam cabai kawin   \n",
              "3                            Ayam Geprek   \n",
              "4                            Minyak Ayam   \n",
              "...                                  ...   \n",
              "15588                 Udang saus mentega   \n",
              "15589                 Jipang tumis udang   \n",
              "15590                  Tumis Udang Tempe   \n",
              "15591  Tumis kacang panjang terong udang   \n",
              "15592                  Siomay Udang Ayam   \n",
              "\n",
              "                                             Ingredients  \\\n",
              "0      1 Ekor Ayam Kampung (potong 12)--2 Buah Jeruk ...   \n",
              "1      1 kg ayam (dipotong sesuai selera jangan kecil...   \n",
              "2      1/4 kg ayam--3 buah cabai hijau besar--7 buah ...   \n",
              "3      250 gr daging ayam (saya pakai fillet)--Secuku...   \n",
              "4      400 gr kulit ayam & lemaknya--8 siung bawang p...   \n",
              "...                                                  ...   \n",
              "15588  1 kg udang segar--1 buah bawang bombay kecil--...   \n",
              "15589  500 gr jipang(saya pk 6bh jipang muda yg kecil...   \n",
              "15590  3 siung bawang merah--3 siung bawang putih--2 ...   \n",
              "15591  Stgah ikat kacang panjang,ku bli 3ribu d psr--...   \n",
              "15592  3 bh dada ayam--1/2 kg udang bersih--6 bh bawa...   \n",
              "\n",
              "                                                   Steps  Loves  \\\n",
              "0      Cuci bersih ayam dan tiriskan. Lalu peras jeru...      1   \n",
              "1      Haluskan bumbu2nya (BaPut, ketumbar, kemiri, k...      1   \n",
              "2      Panaskan minyak di dalam wajan. Setelah minyak...      2   \n",
              "3      Goreng ayam seperti ayam krispi--Ulek semua ba...     10   \n",
              "4      Cuci bersih kulit ayam. Sisihkan--Ambil 50 ml ...      4   \n",
              "...                                                  ...    ...   \n",
              "15588  Bersihkan udang, siapkan bahan bahan--Tumis ba...     46   \n",
              "15589  Tumis bawang merah bawang putih hingga harum.-...      6   \n",
              "15590  Tiriskan bawang putih, bawang merah dan cabe l...      3   \n",
              "15591  Potong2 kacang panjang,terong cuci bersih sisi...     12   \n",
              "15592  Giling ayam dan udang serta haluskan bawang pu...     28   \n",
              "\n",
              "                                            Ingredients1  \\\n",
              "0       Ekor Ayam Kampung (potong )-- Buah Jeruk Nipi...   \n",
              "1       kg ayam (dipotong sesuai selera jangan kecil ...   \n",
              "2      / kg ayam-- buah cabai hijau besar-- buah caba...   \n",
              "3       gr daging ayam (saya pakai fillet)--Secukupny...   \n",
              "4       gr kulit ayam & lemaknya-- siung bawang putih...   \n",
              "...                                                  ...   \n",
              "15588   kg udang segar-- buah bawang bombay kecil-- s...   \n",
              "15589   gr jipang(saya pk bh jipang muda yg kecil),po...   \n",
              "15590   siung bawang merah-- siung bawang putih-- bua...   \n",
              "15591  Stgah ikat kacang panjang,ku bli ribu d psr--T...   \n",
              "15592   bh dada ayam--/ kg udang bersih-- bh bawang p...   \n",
              "\n",
              "                                                tambahan  \n",
              "0      Ayam Woku Manado bahan  Ekor Ayam Kampung (pot...  \n",
              "1      Ayam goreng tulang lunak bahan  kg ayam (dipot...  \n",
              "2      Ayam cabai kawin bahan / kg ayam-- buah cabai ...  \n",
              "3      Ayam Geprek bahan  gr daging ayam (saya pakai ...  \n",
              "4      Minyak Ayam bahan  gr kulit ayam & lemaknya-- ...  \n",
              "...                                                  ...  \n",
              "15588  Udang saus mentega bahan  kg udang segar-- bua...  \n",
              "15589  Jipang tumis udang bahan  gr jipang(saya pk bh...  \n",
              "15590  Tumis Udang Tempe bahan  siung bawang merah-- ...  \n",
              "15591  Tumis kacang panjang terong udang bahan Stgah ...  \n",
              "15592  Siomay Udang Ayam bahan  bh dada ayam--/ kg ud...  \n",
              "\n",
              "[15593 rows x 6 columns]"
            ],
            "text/html": [
              "\n",
              "  <div id=\"df-9658013c-a02e-4ad4-9450-b79ccb5970ff\">\n",
              "    <div class=\"colab-df-container\">\n",
              "      <div>\n",
              "<style scoped>\n",
              "    .dataframe tbody tr th:only-of-type {\n",
              "        vertical-align: middle;\n",
              "    }\n",
              "\n",
              "    .dataframe tbody tr th {\n",
              "        vertical-align: top;\n",
              "    }\n",
              "\n",
              "    .dataframe thead th {\n",
              "        text-align: right;\n",
              "    }\n",
              "</style>\n",
              "<table border=\"1\" class=\"dataframe\">\n",
              "  <thead>\n",
              "    <tr style=\"text-align: right;\">\n",
              "      <th></th>\n",
              "      <th>Title</th>\n",
              "      <th>Ingredients</th>\n",
              "      <th>Steps</th>\n",
              "      <th>Loves</th>\n",
              "      <th>Ingredients1</th>\n",
              "      <th>tambahan</th>\n",
              "    </tr>\n",
              "  </thead>\n",
              "  <tbody>\n",
              "    <tr>\n",
              "      <th>0</th>\n",
              "      <td>Ayam Woku Manado</td>\n",
              "      <td>1 Ekor Ayam Kampung (potong 12)--2 Buah Jeruk ...</td>\n",
              "      <td>Cuci bersih ayam dan tiriskan. Lalu peras jeru...</td>\n",
              "      <td>1</td>\n",
              "      <td>Ekor Ayam Kampung (potong )-- Buah Jeruk Nipi...</td>\n",
              "      <td>Ayam Woku Manado bahan  Ekor Ayam Kampung (pot...</td>\n",
              "    </tr>\n",
              "    <tr>\n",
              "      <th>1</th>\n",
              "      <td>Ayam goreng tulang lunak</td>\n",
              "      <td>1 kg ayam (dipotong sesuai selera jangan kecil...</td>\n",
              "      <td>Haluskan bumbu2nya (BaPut, ketumbar, kemiri, k...</td>\n",
              "      <td>1</td>\n",
              "      <td>kg ayam (dipotong sesuai selera jangan kecil ...</td>\n",
              "      <td>Ayam goreng tulang lunak bahan  kg ayam (dipot...</td>\n",
              "    </tr>\n",
              "    <tr>\n",
              "      <th>2</th>\n",
              "      <td>Ayam cabai kawin</td>\n",
              "      <td>1/4 kg ayam--3 buah cabai hijau besar--7 buah ...</td>\n",
              "      <td>Panaskan minyak di dalam wajan. Setelah minyak...</td>\n",
              "      <td>2</td>\n",
              "      <td>/ kg ayam-- buah cabai hijau besar-- buah caba...</td>\n",
              "      <td>Ayam cabai kawin bahan / kg ayam-- buah cabai ...</td>\n",
              "    </tr>\n",
              "    <tr>\n",
              "      <th>3</th>\n",
              "      <td>Ayam Geprek</td>\n",
              "      <td>250 gr daging ayam (saya pakai fillet)--Secuku...</td>\n",
              "      <td>Goreng ayam seperti ayam krispi--Ulek semua ba...</td>\n",
              "      <td>10</td>\n",
              "      <td>gr daging ayam (saya pakai fillet)--Secukupny...</td>\n",
              "      <td>Ayam Geprek bahan  gr daging ayam (saya pakai ...</td>\n",
              "    </tr>\n",
              "    <tr>\n",
              "      <th>4</th>\n",
              "      <td>Minyak Ayam</td>\n",
              "      <td>400 gr kulit ayam &amp; lemaknya--8 siung bawang p...</td>\n",
              "      <td>Cuci bersih kulit ayam. Sisihkan--Ambil 50 ml ...</td>\n",
              "      <td>4</td>\n",
              "      <td>gr kulit ayam &amp; lemaknya-- siung bawang putih...</td>\n",
              "      <td>Minyak Ayam bahan  gr kulit ayam &amp; lemaknya-- ...</td>\n",
              "    </tr>\n",
              "    <tr>\n",
              "      <th>...</th>\n",
              "      <td>...</td>\n",
              "      <td>...</td>\n",
              "      <td>...</td>\n",
              "      <td>...</td>\n",
              "      <td>...</td>\n",
              "      <td>...</td>\n",
              "    </tr>\n",
              "    <tr>\n",
              "      <th>15588</th>\n",
              "      <td>Udang saus mentega</td>\n",
              "      <td>1 kg udang segar--1 buah bawang bombay kecil--...</td>\n",
              "      <td>Bersihkan udang, siapkan bahan bahan--Tumis ba...</td>\n",
              "      <td>46</td>\n",
              "      <td>kg udang segar-- buah bawang bombay kecil-- s...</td>\n",
              "      <td>Udang saus mentega bahan  kg udang segar-- bua...</td>\n",
              "    </tr>\n",
              "    <tr>\n",
              "      <th>15589</th>\n",
              "      <td>Jipang tumis udang</td>\n",
              "      <td>500 gr jipang(saya pk 6bh jipang muda yg kecil...</td>\n",
              "      <td>Tumis bawang merah bawang putih hingga harum.-...</td>\n",
              "      <td>6</td>\n",
              "      <td>gr jipang(saya pk bh jipang muda yg kecil),po...</td>\n",
              "      <td>Jipang tumis udang bahan  gr jipang(saya pk bh...</td>\n",
              "    </tr>\n",
              "    <tr>\n",
              "      <th>15590</th>\n",
              "      <td>Tumis Udang Tempe</td>\n",
              "      <td>3 siung bawang merah--3 siung bawang putih--2 ...</td>\n",
              "      <td>Tiriskan bawang putih, bawang merah dan cabe l...</td>\n",
              "      <td>3</td>\n",
              "      <td>siung bawang merah-- siung bawang putih-- bua...</td>\n",
              "      <td>Tumis Udang Tempe bahan  siung bawang merah-- ...</td>\n",
              "    </tr>\n",
              "    <tr>\n",
              "      <th>15591</th>\n",
              "      <td>Tumis kacang panjang terong udang</td>\n",
              "      <td>Stgah ikat kacang panjang,ku bli 3ribu d psr--...</td>\n",
              "      <td>Potong2 kacang panjang,terong cuci bersih sisi...</td>\n",
              "      <td>12</td>\n",
              "      <td>Stgah ikat kacang panjang,ku bli ribu d psr--T...</td>\n",
              "      <td>Tumis kacang panjang terong udang bahan Stgah ...</td>\n",
              "    </tr>\n",
              "    <tr>\n",
              "      <th>15592</th>\n",
              "      <td>Siomay Udang Ayam</td>\n",
              "      <td>3 bh dada ayam--1/2 kg udang bersih--6 bh bawa...</td>\n",
              "      <td>Giling ayam dan udang serta haluskan bawang pu...</td>\n",
              "      <td>28</td>\n",
              "      <td>bh dada ayam--/ kg udang bersih-- bh bawang p...</td>\n",
              "      <td>Siomay Udang Ayam bahan  bh dada ayam--/ kg ud...</td>\n",
              "    </tr>\n",
              "  </tbody>\n",
              "</table>\n",
              "<p>15593 rows × 6 columns</p>\n",
              "</div>\n",
              "      <button class=\"colab-df-convert\" onclick=\"convertToInteractive('df-9658013c-a02e-4ad4-9450-b79ccb5970ff')\"\n",
              "              title=\"Convert this dataframe to an interactive table.\"\n",
              "              style=\"display:none;\">\n",
              "        \n",
              "  <svg xmlns=\"http://www.w3.org/2000/svg\" height=\"24px\"viewBox=\"0 0 24 24\"\n",
              "       width=\"24px\">\n",
              "    <path d=\"M0 0h24v24H0V0z\" fill=\"none\"/>\n",
              "    <path d=\"M18.56 5.44l.94 2.06.94-2.06 2.06-.94-2.06-.94-.94-2.06-.94 2.06-2.06.94zm-11 1L8.5 8.5l.94-2.06 2.06-.94-2.06-.94L8.5 2.5l-.94 2.06-2.06.94zm10 10l.94 2.06.94-2.06 2.06-.94-2.06-.94-.94-2.06-.94 2.06-2.06.94z\"/><path d=\"M17.41 7.96l-1.37-1.37c-.4-.4-.92-.59-1.43-.59-.52 0-1.04.2-1.43.59L10.3 9.45l-7.72 7.72c-.78.78-.78 2.05 0 2.83L4 21.41c.39.39.9.59 1.41.59.51 0 1.02-.2 1.41-.59l7.78-7.78 2.81-2.81c.8-.78.8-2.07 0-2.86zM5.41 20L4 18.59l7.72-7.72 1.47 1.35L5.41 20z\"/>\n",
              "  </svg>\n",
              "      </button>\n",
              "      \n",
              "  <style>\n",
              "    .colab-df-container {\n",
              "      display:flex;\n",
              "      flex-wrap:wrap;\n",
              "      gap: 12px;\n",
              "    }\n",
              "\n",
              "    .colab-df-convert {\n",
              "      background-color: #E8F0FE;\n",
              "      border: none;\n",
              "      border-radius: 50%;\n",
              "      cursor: pointer;\n",
              "      display: none;\n",
              "      fill: #1967D2;\n",
              "      height: 32px;\n",
              "      padding: 0 0 0 0;\n",
              "      width: 32px;\n",
              "    }\n",
              "\n",
              "    .colab-df-convert:hover {\n",
              "      background-color: #E2EBFA;\n",
              "      box-shadow: 0px 1px 2px rgba(60, 64, 67, 0.3), 0px 1px 3px 1px rgba(60, 64, 67, 0.15);\n",
              "      fill: #174EA6;\n",
              "    }\n",
              "\n",
              "    [theme=dark] .colab-df-convert {\n",
              "      background-color: #3B4455;\n",
              "      fill: #D2E3FC;\n",
              "    }\n",
              "\n",
              "    [theme=dark] .colab-df-convert:hover {\n",
              "      background-color: #434B5C;\n",
              "      box-shadow: 0px 1px 3px 1px rgba(0, 0, 0, 0.15);\n",
              "      filter: drop-shadow(0px 1px 2px rgba(0, 0, 0, 0.3));\n",
              "      fill: #FFFFFF;\n",
              "    }\n",
              "  </style>\n",
              "\n",
              "      <script>\n",
              "        const buttonEl =\n",
              "          document.querySelector('#df-9658013c-a02e-4ad4-9450-b79ccb5970ff button.colab-df-convert');\n",
              "        buttonEl.style.display =\n",
              "          google.colab.kernel.accessAllowed ? 'block' : 'none';\n",
              "\n",
              "        async function convertToInteractive(key) {\n",
              "          const element = document.querySelector('#df-9658013c-a02e-4ad4-9450-b79ccb5970ff');\n",
              "          const dataTable =\n",
              "            await google.colab.kernel.invokeFunction('convertToInteractive',\n",
              "                                                     [key], {});\n",
              "          if (!dataTable) return;\n",
              "\n",
              "          const docLinkHtml = 'Like what you see? Visit the ' +\n",
              "            '<a target=\"_blank\" href=https://colab.research.google.com/notebooks/data_table.ipynb>data table notebook</a>'\n",
              "            + ' to learn more about interactive tables.';\n",
              "          element.innerHTML = '';\n",
              "          dataTable['output_type'] = 'display_data';\n",
              "          await google.colab.output.renderOutput(dataTable, element);\n",
              "          const docLink = document.createElement('div');\n",
              "          docLink.innerHTML = docLinkHtml;\n",
              "          element.appendChild(docLink);\n",
              "        }\n",
              "      </script>\n",
              "    </div>\n",
              "  </div>\n",
              "  "
            ]
          },
          "metadata": {},
          "execution_count": 23
        }
      ]
    },
    {
      "cell_type": "markdown",
      "source": [
        "### meng-implementasikan stopword indonesia\n"
      ],
      "metadata": {
        "id": "9lVlB0hUBtUd"
      }
    },
    {
      "cell_type": "code",
      "source": [
        "import nltk\n",
        "nltk.download('punkt')\n",
        "nltk.download('stopwords')"
      ],
      "metadata": {
        "colab": {
          "base_uri": "https://localhost:8080/"
        },
        "id": "dDFA2DIbC7vt",
        "outputId": "63b497b8-e6b3-47f1-e1b0-b29d069fb219"
      },
      "execution_count": null,
      "outputs": [
        {
          "output_type": "stream",
          "name": "stderr",
          "text": [
            "[nltk_data] Downloading package punkt to /root/nltk_data...\n",
            "[nltk_data]   Package punkt is already up-to-date!\n",
            "[nltk_data] Downloading package stopwords to /root/nltk_data...\n",
            "[nltk_data]   Package stopwords is already up-to-date!\n"
          ]
        },
        {
          "output_type": "execute_result",
          "data": {
            "text/plain": [
              "True"
            ]
          },
          "metadata": {},
          "execution_count": 24
        }
      ]
    },
    {
      "cell_type": "code",
      "source": [
        "import nltk\n",
        "from nltk.corpus import stopwords\n",
        "from nltk.tokenize import word_tokenize\n",
        "from nltk.corpus import stopwords\n",
        "\n",
        "nltk.download('stopwords')\n",
        "stop_words = set(stopwords.words('indonesian'))\n",
        "def remove_stopwords(text):\n",
        "    tokens = word_tokenize(text)\n",
        "    filtered_tokens = [token for token in tokens if token.lower() not in stop_words]\n",
        "    filtered_text = ' '.join(filtered_tokens)\n",
        "    return filtered_text"
      ],
      "metadata": {
        "colab": {
          "base_uri": "https://localhost:8080/"
        },
        "id": "BRnzOn3qCGR3",
        "outputId": "d3c893a1-e3dc-456a-a4e8-ada2566ac4ed"
      },
      "execution_count": null,
      "outputs": [
        {
          "output_type": "stream",
          "name": "stderr",
          "text": [
            "[nltk_data] Downloading package stopwords to /root/nltk_data...\n",
            "[nltk_data]   Package stopwords is already up-to-date!\n"
          ]
        }
      ]
    },
    {
      "cell_type": "code",
      "source": [
        "dataset['tambahan'] = dataset['tambahan'].apply(remove_stopwords)\n",
        "dataset['tambahan'] = dataset['tambahan'].str.replace('gr', '')\n",
        "dataset['tambahan'] = dataset['tambahan'].str.replace('kg', '')\n",
        "dataset['tambahan'] = dataset['tambahan'].str.replace('&', '')\n"
      ],
      "metadata": {
        "id": "fxf0ZoDdCR_Y"
      },
      "execution_count": null,
      "outputs": []
    },
    {
      "cell_type": "code",
      "source": [
        "dataset['tambahan']"
      ],
      "metadata": {
        "colab": {
          "base_uri": "https://localhost:8080/"
        },
        "id": "DT3v23opEPvI",
        "outputId": "45ee19a7-0ad9-4ba1-91e0-20b2e66d5ffb"
      },
      "execution_count": null,
      "outputs": [
        {
          "output_type": "execute_result",
          "data": {
            "text/plain": [
              "0        Ayam Woku Manado bahan Ekor Ayam Kampung ( pot...\n",
              "1        Ayam goreng tulang lunak bahan  ayam ( dipoton...\n",
              "2        Ayam cabai kawin bahan /  ayam -- buah cabai h...\n",
              "3        Ayam Geprek bahan  daging ayam ( pakai fillet ...\n",
              "4        Minyak Ayam bahan  kulit ayam  lemaknya -- siu...\n",
              "                               ...                        \n",
              "15588    Udang saus mentega bahan  udang segar -- buah ...\n",
              "15589    Jipang tumis udang bahan  jipang ( pk bh jipan...\n",
              "15590    Tumis Udang Tempe bahan siung bawang merah -- ...\n",
              "15591    Tumis kacang terong udang bahan Stgah ikat kac...\n",
              "15592    Siomay Udang Ayam bahan bh dada ayam -- /  uda...\n",
              "Name: tambahan, Length: 15593, dtype: object"
            ]
          },
          "metadata": {},
          "execution_count": 27
        }
      ]
    },
    {
      "cell_type": "code",
      "source": [
        "dataset['tambahan'][0]"
      ],
      "metadata": {
        "colab": {
          "base_uri": "https://localhost:8080/",
          "height": 72
        },
        "id": "rdIrJ2sAGEAI",
        "outputId": "ce3090b7-d71d-4f65-ff8e-84c62a320ec5"
      },
      "execution_count": null,
      "outputs": [
        {
          "output_type": "execute_result",
          "data": {
            "text/plain": [
              "'Ayam Woku Manado bahan Ekor Ayam Kampung ( potong ) -- Buah Jeruk Nipis -- Sdm Garam -- Ruas Kunyit -- Bawang Merah -- Bawang Putih -- Cabe Merah -- Cabe Rawit Merah ( sesuai selera ) -- Butir Kemiri -- Batang Sereh -- Lembar Daun Salam -- Ikat Daun Kemangi -- Penyedap -- / Gelas Air --'"
            ],
            "application/vnd.google.colaboratory.intrinsic+json": {
              "type": "string"
            }
          },
          "metadata": {},
          "execution_count": 28
        }
      ]
    },
    {
      "cell_type": "markdown",
      "source": [
        "spliting data\n"
      ],
      "metadata": {
        "id": "BNYZgRP-pIyD"
      }
    },
    {
      "cell_type": "markdown",
      "source": [
        "## Membuat matrix TFIDF"
      ],
      "metadata": {
        "id": "Oc6YTkWv-E4t"
      }
    },
    {
      "cell_type": "markdown",
      "source": [
        "IDF digunakan untuk memberikan bobot yang lebih besar pada kata-kata yang jarang muncul dalam keseluruhan dataset. "
      ],
      "metadata": {
        "id": "--lz8H9_ZClm"
      }
    },
    {
      "cell_type": "code",
      "source": [
        "# Inisialisasi objek CountVectorizer\n",
        "vectorizer = CountVectorizer()\n",
        "\n",
        "# Konversi teks menjadi matriks term frequency\n",
        "tf_matrix = vectorizer.fit_transform(dataset['Title'])\n",
        "\n",
        "# Menghitung inverse document frequency\n",
        "# menghitung logaritma dari jumlah total resep dalam dataset dibagi dengan jumlah resep yang mengandung kata tersebut.\n",
        "idf = np.log(tf_matrix.shape[0] / np.sum(tf_matrix > 0, axis=0))\n",
        "\n",
        "# Mengalikan term frequency dengan inverse document frequency\n",
        "# menghasilkan matriks TF-IDF, yang memperhitungkan frekuensi kata dalam resep serta bobot kata berdasarkan inverse document frequency.\n",
        "tfidf_matrix = tf_matrix.multiply(idf)\n"
      ],
      "metadata": {
        "id": "QBIY2eG3-Eo3"
      },
      "execution_count": null,
      "outputs": []
    },
    {
      "cell_type": "markdown",
      "source": [
        "## Menghitung similarity \n"
      ],
      "metadata": {
        "id": "pr1qxbae-Rmn"
      }
    },
    {
      "cell_type": "markdown",
      "source": [
        "* Cosine similarity adalah metrik yang digunakan untuk mengukur kesamaan antara dua vektor. \n",
        "\n",
        "* menghitung kesamaan antara setiap pasangan vektor resep dalam matriks TF-IDF.\n",
        "\n",
        "* Nilai cosine similarity berkisar antara -1 hingga 1\n",
        "\n",
        "* Secara ringkas, cosine similarity menghitung kesamaan antara resep-resep menggunakan cosine similarity, dan hasilnya disimpan dalam similarity_matrix untuk digunakan dalam sistem rekomendasi."
      ],
      "metadata": {
        "id": "0AKDjx4T0E8Z"
      }
    },
    {
      "cell_type": "code",
      "source": [
        "# Menghitung similarity antar resep menggunakan cosine similarity\n",
        "similarity_matrix = cosine_similarity(tfidf_matrix)\n"
      ],
      "metadata": {
        "id": "hbjB94ho-ZpW"
      },
      "execution_count": null,
      "outputs": []
    },
    {
      "cell_type": "code",
      "source": [
        "# print(similarity_matrix)[1]"
      ],
      "metadata": {
        "id": "JpR3aa1dvb7S"
      },
      "execution_count": null,
      "outputs": []
    },
    {
      "cell_type": "markdown",
      "source": [
        "spliting data\n"
      ],
      "metadata": {
        "id": "C_OIV53Jn8-m"
      }
    },
    {
      "cell_type": "markdown",
      "source": [
        "# Modelling"
      ],
      "metadata": {
        "id": "1Yl4NZ-I-iac"
      }
    },
    {
      "cell_type": "markdown",
      "source": [
        "Mengimplementasikan model content-based filtering dengan menggunakan TensorFlow:"
      ],
      "metadata": {
        "id": "d-WIV8wo-k9H"
      }
    },
    {
      "cell_type": "code",
      "source": [
        "from tensorflow.keras.layers import Dropout\n",
        "\n",
        "model = Sequential()\n",
        "model.add(Embedding(similarity_matrix.shape[0], 100, input_length=1))\n",
        "model.add(Flatten())\n",
        "model.add(Dense(64, activation='relu'))\n",
        "model.add(Dropout(0.2))  # Menambahkan lapisan Dropout\n",
        "model.add(Dense(similarity_matrix.shape[0], activation='softmax'))\n",
        "\n",
        "model.compile(optimizer='adam', loss='categorical_crossentropy', metrics=[Accuracy()])\n"
      ],
      "metadata": {
        "id": "cG4n3vuGStrv"
      },
      "execution_count": null,
      "outputs": []
    },
    {
      "cell_type": "code",
      "source": [
        "# from tensorflow.keras.metrics import Accuracy\n",
        "# # Mendefinisikan model\n",
        "# model = Sequential()\n",
        "# model.add(Embedding(similarity_matrix.shape[0], 100, input_length=1))\n",
        "# model.add(Flatten())\n",
        "# model.add(Dense(similarity_matrix.shape[0], activation='softmax'))\n",
        "\n",
        "# # Kompilasi model\n",
        "# model.compile(optimizer='adam', loss='categorical_crossentropy', metrics=[Accuracy()])\n",
        "\n",
        "# # # Melatih model\n",
        "# # model.fit(np.arange(similarity_matrix.shape[0]), similarity_matrix, epochs=10)\n",
        "# # Melatih model dan mencatat riwayat pelatihan\n",
        "# history = model.fit(np.arange(similarity_matrix.shape[0]), similarity_matrix, epochs=10)\n",
        "\n",
        "# # Menampilkan akurasi di setiap epoch\n",
        "# for epoch, acc in enumerate(history.history['accuracy']):\n",
        "#     print(f'Epoch {epoch + 1}: Akurasi = {acc}')\n"
      ],
      "metadata": {
        "id": "sNJx7wf5-bvF"
      },
      "execution_count": null,
      "outputs": []
    },
    {
      "cell_type": "code",
      "source": [
        "history = model.fit(np.arange(similarity_matrix.shape[0]), similarity_matrix, epochs=10)\n",
        "\n",
        "# Menampilkan akurasi di setiap epoch\n",
        "for epoch, acc in enumerate(history.history['accuracy']):\n",
        "    print(f'Epoch {epoch + 1}: Akurasi = {acc}')"
      ],
      "metadata": {
        "colab": {
          "base_uri": "https://localhost:8080/"
        },
        "id": "Lg6DN9AaSxBv",
        "outputId": "41cec002-bbcc-41aa-fc5a-9e7f5af9a688"
      },
      "execution_count": null,
      "outputs": [
        {
          "output_type": "stream",
          "name": "stdout",
          "text": [
            "Epoch 1/10\n",
            "488/488 [==============================] - 27s 50ms/step - loss: 2844.6494 - accuracy: 0.0000e+00\n",
            "Epoch 2/10\n",
            "488/488 [==============================] - 26s 53ms/step - loss: 5055.6157 - accuracy: 0.0132\n",
            "Epoch 3/10\n",
            "488/488 [==============================] - 26s 54ms/step - loss: 21236.3555 - accuracy: 0.3838\n",
            "Epoch 4/10\n",
            "488/488 [==============================] - 28s 57ms/step - loss: 73588.9062 - accuracy: 0.7582\n",
            "Epoch 5/10\n",
            "488/488 [==============================] - 25s 51ms/step - loss: 177642.4688 - accuracy: 0.8090\n",
            "Epoch 6/10\n",
            "488/488 [==============================] - 26s 54ms/step - loss: 344298.1875 - accuracy: 0.8189\n",
            "Epoch 7/10\n",
            "488/488 [==============================] - 26s 53ms/step - loss: 574890.3750 - accuracy: 0.8211\n",
            "Epoch 8/10\n",
            "488/488 [==============================] - 26s 53ms/step - loss: 879407.4375 - accuracy: 0.8219\n",
            "Epoch 9/10\n",
            "488/488 [==============================] - 24s 50ms/step - loss: 1250393.8750 - accuracy: 0.8214\n",
            "Epoch 10/10\n",
            "488/488 [==============================] - 26s 53ms/step - loss: 1698501.1250 - accuracy: 0.8211\n",
            "Epoch 1: Akurasi = 0.0\n",
            "Epoch 2: Akurasi = 0.013156154192984104\n",
            "Epoch 3: Akurasi = 0.3838248550891876\n",
            "Epoch 4: Akurasi = 0.7582472562789917\n",
            "Epoch 5: Akurasi = 0.809027373790741\n",
            "Epoch 6: Akurasi = 0.8189423084259033\n",
            "Epoch 7: Akurasi = 0.821098268032074\n",
            "Epoch 8: Akurasi = 0.821925699710846\n",
            "Epoch 9: Akurasi = 0.8213604688644409\n",
            "Epoch 10: Akurasi = 0.8211374282836914\n"
          ]
        }
      ]
    },
    {
      "cell_type": "markdown",
      "source": [
        "Membuat fungsi untuk merekomendasikan resep berdasarkan input pengguna:"
      ],
      "metadata": {
        "id": "YSa4HTR0-quC"
      }
    },
    {
      "cell_type": "code",
      "source": [
        "def recommend_recipe(recipe_name, k=10):\n",
        "    # Mendapatkan indeks resep berdasarkan nama resep\n",
        "    recipe_index = dataset[dataset['Title'] == recipe_name].index[0]\n",
        "\n",
        "    # Mendapatkan similarity score antara resep tersebut dengan resep lainnya\n",
        "    recipe_scores = model.predict(np.array([recipe_index]))[0]\n",
        "\n",
        "    # Mengurutkan resep berdasarkan similarity score\n",
        "    top_indices = np.argsort(recipe_scores)[::-1][1:k+1]\n",
        "\n",
        "    # Mengembalikan daftar rekomendasi resep\n",
        "    return dataset.loc[top_indices, 'Title']\n"
      ],
      "metadata": {
        "id": "Scf9d9j8-qTk"
      },
      "execution_count": null,
      "outputs": []
    },
    {
      "cell_type": "code",
      "source": [
        "# Memanggil fungsi recommend_recipe untuk merekomendasikan resep berdasarkan input pengguna\n",
        "recommendations = recommend_recipe('Tumis Udang Tempe')\n",
        "print(recommendations)\n"
      ],
      "metadata": {
        "colab": {
          "base_uri": "https://localhost:8080/"
        },
        "id": "rpa_KTz_AEYW",
        "outputId": "5637a967-7eb5-4b4e-a463-3ee02b444657"
      },
      "execution_count": null,
      "outputs": [
        {
          "output_type": "stream",
          "name": "stdout",
          "text": [
            "1/1 [==============================] - 0s 113ms/step\n",
            "13592                           Tahu Tempe Telur Balado\n",
            "14430                           Balado tahu tempe udang\n",
            "9359                       Ayam,tahu,tempe bumbu kuning\n",
            "7717                           Tahu Goreng Telur Simple\n",
            "12762                           Balado Tahu Tempe Telur\n",
            "11337                           Tahu Tempe Telur Balado\n",
            "9473                    Tahu tempe goreng sambal balado\n",
            "10436                                Tempe Goreng Telur\n",
            "9368                             Botok Udang Tahu Tempe\n",
            "5766     👉 Sambal Goreng Hati sapi dan tempe 👈 #Ketopad\n",
            "Name: Title, dtype: object\n"
          ]
        }
      ]
    },
    {
      "cell_type": "code",
      "source": [
        "dataset.to_csv('dataset.csv', index=False)\n"
      ],
      "metadata": {
        "id": "o5b-GBGJHrGS"
      },
      "execution_count": null,
      "outputs": []
    },
    {
      "cell_type": "code",
      "source": [],
      "metadata": {
        "id": "j3dSr_sVIBk-"
      },
      "execution_count": null,
      "outputs": []
    }
  ]
}