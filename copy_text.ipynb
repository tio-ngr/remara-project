{
 "cells": [
  {
   "cell_type": "code",
   "execution_count": 3,
   "metadata": {},
   "outputs": [],
   "source": [
    "import pandas as pd\n",
    "\n",
    "# Membaca file CSV\n",
    "df = pd.read_csv('copy_dataset_sapi.csv')\n",
    "\n",
    "# Fungsi untuk menyalin kata-kata tertentu dari teks\n",
    "def copy_keywords(text):\n",
    "    keywords = ['ayam', 'bawang putih', 'telur', 'tepung', 'maizena', 'terigu', 'bawang merah', 'daun salam', 'daun bawang', 'serai', 'sereh', 'cabai', 'cabe',\n",
    "                'rawit', 'minyak', 'wijen','ketumbar', 'bubuk', 'merica', 'garam', 'gula', 'aren', 'mecin','micin', 'jahe', 'kunyit', 'kaldu', 'royco', ' tahu ',\n",
    "                'tempe', 'daun jeruk', 'jeruk nipis', 'bawang bombay','bawang bombai', 'lada', 'kerupuk', 'udang', 'jeruk limau', 'mentega', 'kacang', ' air ', 'nasi',\n",
    "                'saus', 'saos','tiram', 'kecap', 'roti', 'jamur', 'seledri', 'lemon', 'lengkuas', 'sapi', 'ikan','kerupuk','udang','sosis', ' mie ', 'bihun',\n",
    "                'pokcoy','ampela ati', 'brokoli', 'telur asin', 'paprika', 'bawang goreng', 'keju', 'santan', 'panir', 'kemiri', 'tauge', 'saos', \n",
    "                'susu', 'tomat', 'kemangi', 'belimbing', 'buncis', 'patin', 'nila', 'gurame', 'gurami', 'tongkol', 'penyedap', 'terasi',\n",
    "                 'nanas', 'asam jawa', ' kol ', 'daun pisang', ' dori ', 'ikan gabus', 'ikan sembilang', 'ikan mas', ' kakap ', 'bandeng',\n",
    "                  'ikan kembung', 'tenggiri', 'margarin', 'salmon', 'lele', 'cuka', 'mujair', 'mujaer', ' pari ', 'terong', 'timun', 'jengkol',\n",
    "                  'wortel', 'pete', ' ebi ', 'daging', 'bakso', 'macaroni', 'buntut sapi', 'beef', 'cengkeh', 'ceker', 'tulang ayam', 'iga sapi'\n",
    "                  ' kikil ', 'tetelan sapi', 'gajih sapi', 'kaki sapi', 'buah pare', 'ati sapi','madu', 'beras', 'lidah sapi' ]  # Ganti dengan kata-kata yang ingin Anda salin\n",
    "    bahan = []\n",
    "    text_lower = text.lower()\n",
    "    for keyword in keywords:\n",
    "        if keyword in text_lower:\n",
    "            bahan.append(keyword)\n",
    "    return ', '.join(bahan)\n",
    "\n",
    "# Menambahkan kolom baru \"Bahan\" yang berisi kata-kata yang disalin dari kolom \"Ingredients\" dan dipisahkan dengan koma\n",
    "df['Bahan'] = df['Ingredients'].apply(copy_keywords)\n",
    "\n",
    "# Menyimpan dataframe dengan kolom baru ke file CSV\n",
    "df.to_csv('fix_dataset_sapi.csv', index=False)"
   ]
  }
 ],
 "metadata": {
  "kernelspec": {
   "display_name": "Python 3",
   "language": "python",
   "name": "python3"
  },
  "language_info": {
   "codemirror_mode": {
    "name": "ipython",
    "version": 3
   },
   "file_extension": ".py",
   "mimetype": "text/x-python",
   "name": "python",
   "nbconvert_exporter": "python",
   "pygments_lexer": "ipython3",
   "version": "3.10.4"
  },
  "orig_nbformat": 4
 },
 "nbformat": 4,
 "nbformat_minor": 2
}
